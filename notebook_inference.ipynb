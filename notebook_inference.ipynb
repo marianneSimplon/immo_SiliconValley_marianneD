{
 "cells": [
  {
   "cell_type": "code",
   "execution_count": 7,
   "id": "8f1047c6",
   "metadata": {},
   "outputs": [],
   "source": [
    "import numpy as np\n",
    "import pandas as pd\n",
    "import statsmodels.api as sm\n",
    "import statsmodels.formula.api as smf"
   ]
  },
  {
   "cell_type": "code",
   "execution_count": 8,
   "id": "d5f97574",
   "metadata": {},
   "outputs": [],
   "source": [
    "immoSV_train = pd.read_csv(r'.\\data\\8it\\8_immoSV_train.csv',delimiter=',', decimal='.')\n",
    "immoSV_test = pd.read_csv(r'.\\data\\8it\\8_immoSV_test.csv',delimiter=',', decimal='.')"
   ]
  },
  {
   "cell_type": "code",
   "execution_count": 9,
   "id": "a23b144d",
   "metadata": {},
   "outputs": [],
   "source": [
    "y_train = immoSV_train[\"median_house_value\"]\n",
    "X_train = immoSV_train.drop([\"median_house_value\"], axis=1)\n",
    "y_test = immoSV_test[\"median_house_value\"]\n",
    "X_test = immoSV_test.drop([\"median_house_value\"], axis=1)"
   ]
  },
  {
   "cell_type": "code",
   "execution_count": 10,
   "id": "a42158ce",
   "metadata": {},
   "outputs": [],
   "source": [
    "# Fit regression model (using the natural log of one of the regressors)\n",
    "results = smf.ols('y_train ~ X_train', data=immoSV_train).fit()"
   ]
  },
  {
   "cell_type": "code",
   "execution_count": 11,
   "id": "9a3c753f",
   "metadata": {},
   "outputs": [
    {
     "name": "stdout",
     "output_type": "stream",
     "text": [
      "                            OLS Regression Results                            \n",
      "==============================================================================\n",
      "Dep. Variable:                y_train   R-squared:                       0.645\n",
      "Model:                            OLS   Adj. R-squared:                  0.645\n",
      "Method:                 Least Squares   F-statistic:                     1888.\n",
      "Date:                Thu, 23 Sep 2021   Prob (F-statistic):               0.00\n",
      "Time:                        22:21:56   Log-Likelihood:            -1.4358e+05\n",
      "No. Observations:               11436   AIC:                         2.872e+05\n",
      "Df Residuals:                   11424   BIC:                         2.873e+05\n",
      "Df Model:                          11                                         \n",
      "Covariance Type:            nonrobust                                         \n",
      "===============================================================================\n",
      "                  coef    std err          t      P>|t|      [0.025      0.975]\n",
      "-------------------------------------------------------------------------------\n",
      "Intercept     2.13e+05   1878.547    113.391      0.000    2.09e+05    2.17e+05\n",
      "X_train[0]  -9.656e+04   5101.227    -18.930      0.000   -1.07e+05   -8.66e+04\n",
      "X_train[1]  -9.308e+04   5047.585    -18.441      0.000   -1.03e+05   -8.32e+04\n",
      "X_train[2]    1.87e+04   1113.583     16.792      0.000    1.65e+04    2.09e+04\n",
      "X_train[3]  -8490.6825   1805.164     -4.704      0.000    -1.2e+04   -4952.252\n",
      "X_train[4]   3.518e+04   3367.816     10.447      0.000    2.86e+04    4.18e+04\n",
      "X_train[5]  -3.989e+04   1413.964    -28.213      0.000   -4.27e+04   -3.71e+04\n",
      "X_train[6]   1.865e+04   3408.848      5.472      0.000     1.2e+04    2.53e+04\n",
      "X_train[7]   8.342e+04    987.418     84.481      0.000    8.15e+04    8.54e+04\n",
      "X_train[8]  -1330.2771   2085.577     -0.638      0.524   -5418.366    2757.812\n",
      "X_train[9]  -4.435e+04   2993.625    -14.814      0.000   -5.02e+04   -3.85e+04\n",
      "X_train[10] -3830.8439   2912.428     -1.315      0.188   -9539.702    1878.014\n",
      "==============================================================================\n",
      "Omnibus:                     2553.555   Durbin-Watson:                   1.994\n",
      "Prob(Omnibus):                  0.000   Jarque-Bera (JB):             8449.250\n",
      "Skew:                           1.121   Prob(JB):                         0.00\n",
      "Kurtosis:                       6.564   Cond. No.                         28.4\n",
      "==============================================================================\n",
      "\n",
      "Notes:\n",
      "[1] Standard Errors assume that the covariance matrix of the errors is correctly specified.\n"
     ]
    }
   ],
   "source": [
    "# Inspect the results\n",
    "print(results.summary())"
   ]
  },
  {
   "cell_type": "code",
   "execution_count": null,
   "id": "18cda958",
   "metadata": {},
   "outputs": [],
   "source": []
  }
 ],
 "metadata": {
  "kernelspec": {
   "display_name": "Python 3",
   "language": "python",
   "name": "python3"
  },
  "language_info": {
   "codemirror_mode": {
    "name": "ipython",
    "version": 3
   },
   "file_extension": ".py",
   "mimetype": "text/x-python",
   "name": "python",
   "nbconvert_exporter": "python",
   "pygments_lexer": "ipython3",
   "version": "3.8.8"
  }
 },
 "nbformat": 4,
 "nbformat_minor": 5
}
